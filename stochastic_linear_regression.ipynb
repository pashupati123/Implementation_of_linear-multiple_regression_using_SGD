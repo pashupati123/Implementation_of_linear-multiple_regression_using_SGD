{
 "cells": [
  {
   "cell_type": "code",
   "execution_count": 166,
   "metadata": {},
   "outputs": [],
   "source": [
    "import pandas as pd\n",
    "import numpy as np"
   ]
  },
  {
   "cell_type": "code",
   "execution_count": 167,
   "metadata": {},
   "outputs": [],
   "source": [
    "def prediction(ra_input,coeff_parameter):\n",
    "    prediction_output = coeff_parameter[0]\n",
    "    for j in range(0,len(ra_input)-1):\n",
    "        prediction_output = prediction_output + (ra_input[j]*coeff_parameter[j+1])\n",
    "    return prediction_output\n",
    "            \n",
    "        \n",
    "    \n",
    "       "
   ]
  },
  {
   "cell_type": "code",
   "execution_count": 168,
   "metadata": {},
   "outputs": [],
   "source": [
    "def sgd_to_get_coeff_parameter(train_data,lrate,coeff_parameter,epoc):\n",
    "    while(epoc>0):\n",
    "        for data in range(0,len(train_data)):\n",
    "            ra_data=np.array(train_data[data])\n",
    "            coeff_parameter = np.array(coeff_parameter)\n",
    "            yout = prediction(ra_data,coeff_parameter)\n",
    "            error = yout-ra_data[len(ra_data)-1]\n",
    "            print coeff_parameter\n",
    "            coeff_parameter[0] = coeff_parameter[0]- (lrate*error)\n",
    "            for i in range(1,len(coeff_parameter)):\n",
    "                coeff_parameter[i] = coeff_parameter[i] - (lrate*error*ra_data[i-1])\n",
    "        epoc=epoc-1\n",
    "    return coeff_parameter\n",
    "    "
   ]
  },
  {
   "cell_type": "code",
   "execution_count": 169,
   "metadata": {},
   "outputs": [
    {
     "name": "stdout",
     "output_type": "stream",
     "text": [
      "[0. 0. 0.]\n",
      "[0.01 0.01 0.02]\n",
      "[0.0289 0.0478 0.0956]\n",
      "[0.053353 0.121159 0.193412]\n",
      "[0.09902504 0.3495192  0.37610016]\n",
      "[0.13325659 0.38375075 0.47879482]\n",
      "[0.12851062 0.37900478 0.46930288]\n",
      "[0.12087331 0.36373015 0.43875361]\n",
      "[0.12120252 0.3647178  0.44007048]\n",
      "[0.14415179 0.47946413 0.53186754]\n",
      "[0.1719596  0.50727194 0.61529099]\n",
      "[0.16286147 0.49817381 0.59709472]\n",
      "[0.14738559 0.46722205 0.5351912 ]\n",
      "[0.14048742 0.44652755 0.50759854]\n",
      "[0.15645223 0.52635159 0.57145776]\n",
      "[0.18248046 0.55237982 0.64954245]\n",
      "[0.17214101 0.54204036 0.62886355]\n",
      "[0.15442425 0.50660685 0.55799651]\n",
      "[0.14536194 0.47941992 0.52174728]\n",
      "[0.15906743 0.54794739 0.57656925]\n",
      "[0.18470021 0.57358016 0.65346757]\n"
     ]
    }
   ],
   "source": [
    "train_data = np.array([[1,2,1],[2,4,2],[3,4,3],[5,4,6],[1,3,5]])\n",
    "#train_data = np.array([[1,1],[2,3],[3,3],[4,2],[5,5]])\n",
    "number_of_coeff = len(train_data[0])\n",
    "coeff_parameter = []\n",
    "for i in range(0,number_of_coeff):\n",
    "    coeff_parameter.append(0.0)\n",
    "lrate = 0.01\n",
    "epoc =  4\n",
    "coeff_parameter=sgd_to_get_coeff_parameter(train_data,lrate,coeff_parameter,epoc)\n",
    "\n",
    "print coeff_parameter"
   ]
  },
  {
   "cell_type": "code",
   "execution_count": 170,
   "metadata": {},
   "outputs": [
    {
     "name": "stdout",
     "output_type": "stream",
     "text": [
      "[0.18470021 0.57358016 0.65346757]\n",
      "Actual output 1 : Predicted data 2.0652155176158495\n",
      "\n",
      "Actual output 2 : Predicted data 3.945730827558466\n",
      "\n",
      "Actual output 3 : Predicted data 4.5193109898048665\n",
      "\n",
      "Actual output 6 : Predicted data 5.666471314297668\n",
      "\n",
      "Actual output 5 : Predicted data 2.7186830914639573\n",
      "\n",
      "('mean_square_error %s', 2.5089013314763142)\n"
     ]
    }
   ],
   "source": [
    "#test_data = np.array([[1,1],[2,3],[3,3],[4,2],[5,5]])\n",
    "test_data = np.array([[1,2,1],[2,4,2],[3,4,3],[5,4,6],[1,3,5]])\n",
    "print coeff_parameter\n",
    "mean_square_error = 0.0\n",
    "for i in range(0,len(test_data)):\n",
    "    ra_data=test_data[i]\n",
    "    yout = prediction(ra_data,coeff_parameter)\n",
    "    error = yout-ra_data[len(ra_data)-1]\n",
    "    mean_square_error = mean_square_error + (error**2)\n",
    "    print(\"Actual output %s : Predicted data %s\\n\"%(ra_data[len(ra_data)-1],yout))\n",
    "    \n",
    "print(\"mean_square_error %s\",(mean_square_error/(len(test_data))))\n"
   ]
  }
 ],
 "metadata": {
  "kernelspec": {
   "display_name": "Python 2",
   "language": "python",
   "name": "python2"
  },
  "language_info": {
   "codemirror_mode": {
    "name": "ipython",
    "version": 2
   },
   "file_extension": ".py",
   "mimetype": "text/x-python",
   "name": "python",
   "nbconvert_exporter": "python",
   "pygments_lexer": "ipython2",
   "version": "2.7.10"
  }
 },
 "nbformat": 4,
 "nbformat_minor": 2
}
